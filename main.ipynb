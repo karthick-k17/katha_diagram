{
 "cells": [
  {
   "cell_type": "code",
   "execution_count": 3,
   "metadata": {},
   "outputs": [
    {
     "name": "stdout",
     "output_type": "stream",
     "text": [
      "[+] Found a total of 2 images in page 2\n",
      "[+] Found a total of 1 images in page 3\n",
      "[+] Found a total of 1 images in page 4\n"
     ]
    },
    {
     "name": "stderr",
     "output_type": "stream",
     "text": [
      "c:\\Users\\99013030\\Desktop\\katha_diagram\\venv\\Lib\\site-packages\\tqdm\\auto.py:21: TqdmWarning: IProgress not found. Please update jupyter and ipywidgets. See https://ipywidgets.readthedocs.io/en/stable/user_install.html\n",
      "  from .autonotebook import tqdm as notebook_tqdm\n"
     ]
    }
   ],
   "source": [
    "import fitz\n",
    "import io\n",
    "from PIL import Image\n",
    "import dotenv \n",
    "import google.generativeai as genai\n",
    "\n",
    "file = \"./files/first_chapter.pdf\"\n",
    "\n",
    "page_start = 1\n",
    "page_end = 3\n",
    "# file = \"./files/2024-dbir-data-breach-investigations-report.pdf\"\n",
    "# file = \"./files/two_chapters.pdf\"\n",
    "pdf_file = fitz.open(file)\n",
    "\n",
    "for page_index in range(len(pdf_file)):\n",
    "    page = pdf_file[page_index]\n",
    "    image_list = page.get_images()\n",
    "\n",
    "    if image_list:\n",
    "        print(f\"[+] Found a total of {len(image_list)} images in page {page_index}\")\n",
    "    \n",
    "    for image_index, img in enumerate(image_list, start=1):\n",
    "        xref = img[0]\n",
    "        base_image = pdf_file.extract_image(xref)\n",
    "        image_bytes = base_image[\"image\"]\n",
    "        image_ext = base_image[\"ext\"]\n",
    "        \n",
    "        image = Image.open(io.BytesIO(image_bytes))\n",
    "        image.save(open(f\"./files/images/image{page_index + 1}_{image_index}.{image_ext}\", \"wb\"))"
   ]
  },
  {
   "cell_type": "code",
   "execution_count": 4,
   "metadata": {},
   "outputs": [],
   "source": [
    "from pdf2image import convert_from_path\n",
    "\n",
    "pil_images = convert_from_path('files/first_chapter.pdf')"
   ]
  },
  {
   "cell_type": "code",
   "execution_count": 6,
   "metadata": {},
   "outputs": [],
   "source": [
    "\n",
    "api_key = dotenv.get_key('.env', key_to_get='GEMINI_API_KEY')\n",
    "\n",
    "#Configure API key\n",
    "genai.configure(api_key=api_key)"
   ]
  }
 ],
 "metadata": {
  "kernelspec": {
   "display_name": "venv",
   "language": "python",
   "name": "python3"
  },
  "language_info": {
   "codemirror_mode": {
    "name": "ipython",
    "version": 3
   },
   "file_extension": ".py",
   "mimetype": "text/x-python",
   "name": "python",
   "nbconvert_exporter": "python",
   "pygments_lexer": "ipython3",
   "version": "3.12.3"
  }
 },
 "nbformat": 4,
 "nbformat_minor": 2
}
